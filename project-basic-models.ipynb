{
 "cells": [
  {
   "cell_type": "markdown",
   "metadata": {},
   "source": [
    "### Importing Libaries"
   ]
  },
  {
   "cell_type": "code",
   "execution_count": 2,
   "metadata": {},
   "outputs": [],
   "source": [
    "import pandas as pd\n",
    "import numpy as np\n",
    "import matplotlib.pyplot as plt\n",
    "import warnings\n",
    "warnings.filterwarnings(\"ignore\")\n",
    "\n",
    "from sklearn.preprocessing import MinMaxScaler\n",
    "from sklearn.preprocessing import StandardScaler\n",
    "from sklearn.model_selection import cross_val_score\n",
    "\n",
    "from sklearn.metrics import confusion_matrix,accuracy_score,classification_report,roc_auc_score,roc_curve"
   ]
  },
  {
   "cell_type": "markdown",
   "metadata": {},
   "source": [
    "### Import the data"
   ]
  },
  {
   "cell_type": "code",
   "execution_count": 3,
   "metadata": {},
   "outputs": [],
   "source": [
    "df=pd.read_csv(\"C:/Users/Nantha/Desktop/Nantha Kumar/Capstone/train.csv\")"
   ]
  },
  {
   "cell_type": "code",
   "execution_count": 4,
   "metadata": {},
   "outputs": [],
   "source": [
    "def cns_desc(x):\n",
    "    if x<300:\n",
    "        return 0\n",
    "    elif (x>=300) and (x<=350):\n",
    "        return 1\n",
    "    elif (x>350) and (x<=570):\n",
    "        return 2\n",
    "    elif (x>570) and (x<=630):\n",
    "        return 3\n",
    "    elif (x>630) and (x<=705):\n",
    "        return 4\n",
    "    else:\n",
    "        return 5"
   ]
  },
  {
   "cell_type": "code",
   "execution_count": 5,
   "metadata": {},
   "outputs": [],
   "source": [
    "df[\"Date.of.Birth\"]=pd.to_datetime(df[\"Date.of.Birth\"])\n",
    "\n",
    "df[\"DisbursalDate\"]=pd.to_datetime(df[\"DisbursalDate\"])\n",
    "df[\"DisbursalDate_Month\"]=df[\"DisbursalDate\"].dt.month\n",
    "\n",
    "df[\"Age_at_disbursement\"]=((df['DisbursalDate']-df[\"Date.of.Birth\"])/365).apply(lambda x:x.days)\n",
    "\n",
    "df[\"Employment.Type\"]=df[\"Employment.Type\"].map({'Salaried':0,\"Self employed\":1,np.nan:2})\n",
    "\n",
    "df[\"PERFORM_CNS.SCORE.DESCRIPTION\"]=df[\"PERFORM_CNS.SCORE\"].apply(cns_desc)\n",
    "\n",
    "df[\"AVERAGE.ACCT.AGE\"]=df[\"AVERAGE.ACCT.AGE\"].apply(lambda x:(int((x.split(\"y\"))[0])*12)+(int((x.split())[1].split(\"m\")[0])))\n",
    "\n",
    "df[\"CREDIT.HISTORY.LENGTH\"]=df[\"CREDIT.HISTORY.LENGTH\"].apply(lambda x:(int((x.split(\"y\"))[0])*12)+(int((x.split())[1].split(\"m\")[0])))"
   ]
  },
  {
   "cell_type": "code",
   "execution_count": 6,
   "metadata": {},
   "outputs": [],
   "source": [
    "df['NO.OF.ACCTS']=df['PRI.NO.OF.ACCTS']+df['SEC.NO.OF.ACCTS']\n",
    "df['ACTIVE.ACCTS']=df['PRI.ACTIVE.ACCTS']+df['SEC.ACTIVE.ACCTS']\n",
    "df['OVERDUE.ACCTS']=df['PRI.OVERDUE.ACCTS']+df['SEC.OVERDUE.ACCTS']\n",
    "df['CURRENT.BALANCE']=df['PRI.CURRENT.BALANCE']+df['SEC.CURRENT.BALANCE']\n",
    "df['SANCTIONED.AMOUNT']=df['PRI.SANCTIONED.AMOUNT']+df['SEC.SANCTIONED.AMOUNT']\n",
    "df['DISBURSED.AMOUNT']=df['PRI.DISBURSED.AMOUNT']+df['SEC.DISBURSED.AMOUNT']\n",
    "df['INSTAL.AMT']=df['PRIMARY.INSTAL.AMT']+df['SEC.INSTAL.AMT']\n",
    "\n",
    "df=df.drop(['PRI.NO.OF.ACCTS','SEC.NO.OF.ACCTS','PRI.ACTIVE.ACCTS','SEC.ACTIVE.ACCTS','PRI.OVERDUE.ACCTS','SEC.OVERDUE.ACCTS','PRI.CURRENT.BALANCE','SEC.CURRENT.BALANCE','PRI.SANCTIONED.AMOUNT','SEC.SANCTIONED.AMOUNT','PRI.DISBURSED.AMOUNT','SEC.DISBURSED.AMOUNT','PRIMARY.INSTAL.AMT','SEC.INSTAL.AMT'],axis=1)"
   ]
  },
  {
   "cell_type": "code",
   "execution_count": 7,
   "metadata": {
    "scrolled": true
   },
   "outputs": [
    {
     "data": {
      "text/plain": [
       "UniqueID                               233154\n",
       "disbursed_amount                        24565\n",
       "asset_cost                              46252\n",
       "ltv                                      6579\n",
       "branch_id                                  82\n",
       "supplier_id                              2953\n",
       "manufacturer_id                            11\n",
       "Current_pincode_ID                       6698\n",
       "Date.of.Birth                           15433\n",
       "Employment.Type                             3\n",
       "DisbursalDate                              84\n",
       "State_ID                                   22\n",
       "Employee_code_ID                         3270\n",
       "MobileNo_Avl_Flag                           1\n",
       "Aadhar_flag                                 2\n",
       "PAN_flag                                    2\n",
       "VoterID_flag                                2\n",
       "Driving_flag                                2\n",
       "Passport_flag                               2\n",
       "PERFORM_CNS.SCORE                         573\n",
       "PERFORM_CNS.SCORE.DESCRIPTION               6\n",
       "NEW.ACCTS.IN.LAST.SIX.MONTHS               26\n",
       "DELINQUENT.ACCTS.IN.LAST.SIX.MONTHS        14\n",
       "AVERAGE.ACCT.AGE                          192\n",
       "CREDIT.HISTORY.LENGTH                     294\n",
       "NO.OF_INQUIRIES                            25\n",
       "loan_default                                2\n",
       "DisbursalDate_Month                        12\n",
       "Age_at_disbursement                        50\n",
       "NO.OF.ACCTS                               108\n",
       "ACTIVE.ACCTS                               41\n",
       "OVERDUE.ACCTS                              22\n",
       "CURRENT.BALANCE                         72483\n",
       "SANCTIONED.AMOUNT                       45367\n",
       "DISBURSED.AMOUNT                        48958\n",
       "INSTAL.AMT                              28540\n",
       "dtype: int64"
      ]
     },
     "execution_count": 7,
     "metadata": {},
     "output_type": "execute_result"
    }
   ],
   "source": [
    "df.nunique()"
   ]
  },
  {
   "cell_type": "code",
   "execution_count": 8,
   "metadata": {},
   "outputs": [
    {
     "data": {
      "text/plain": [
       "Index(['UniqueID', 'disbursed_amount', 'asset_cost', 'ltv', 'branch_id',\n",
       "       'supplier_id', 'manufacturer_id', 'Current_pincode_ID', 'Date.of.Birth',\n",
       "       'Employment.Type', 'DisbursalDate', 'State_ID', 'Employee_code_ID',\n",
       "       'MobileNo_Avl_Flag', 'Aadhar_flag', 'PAN_flag', 'VoterID_flag',\n",
       "       'Driving_flag', 'Passport_flag', 'PERFORM_CNS.SCORE',\n",
       "       'PERFORM_CNS.SCORE.DESCRIPTION', 'NEW.ACCTS.IN.LAST.SIX.MONTHS',\n",
       "       'DELINQUENT.ACCTS.IN.LAST.SIX.MONTHS', 'AVERAGE.ACCT.AGE',\n",
       "       'CREDIT.HISTORY.LENGTH', 'NO.OF_INQUIRIES', 'loan_default',\n",
       "       'DisbursalDate_Month', 'Age_at_disbursement', 'NO.OF.ACCTS',\n",
       "       'ACTIVE.ACCTS', 'OVERDUE.ACCTS', 'CURRENT.BALANCE', 'SANCTIONED.AMOUNT',\n",
       "       'DISBURSED.AMOUNT', 'INSTAL.AMT'],\n",
       "      dtype='object')"
      ]
     },
     "execution_count": 8,
     "metadata": {},
     "output_type": "execute_result"
    }
   ],
   "source": [
    "df.columns"
   ]
  },
  {
   "cell_type": "code",
   "execution_count": 9,
   "metadata": {},
   "outputs": [],
   "source": [
    "df=df.drop(columns=['Date.of.Birth',\"DisbursalDate\"])"
   ]
  },
  {
   "cell_type": "code",
   "execution_count": 10,
   "metadata": {},
   "outputs": [],
   "source": [
    "cols=df.columns.to_list()"
   ]
  },
  {
   "cell_type": "code",
   "execution_count": 11,
   "metadata": {},
   "outputs": [],
   "source": [
    "cat_cols=['UniqueID','branch_id','supplier_id', 'manufacturer_id', 'Current_pincode_ID','Employment.Type', 'State_ID',\n",
    "          'Employee_code_ID','MobileNo_Avl_Flag', 'Aadhar_flag', 'PAN_flag', 'VoterID_flag','Driving_flag', 'Passport_flag',\n",
    "       'PERFORM_CNS.SCORE.DESCRIPTION','DisbursalDate_Month']"
   ]
  },
  {
   "cell_type": "code",
   "execution_count": 12,
   "metadata": {},
   "outputs": [],
   "source": [
    "target_col=\"loan_default\""
   ]
  },
  {
   "cell_type": "code",
   "execution_count": 13,
   "metadata": {},
   "outputs": [],
   "source": [
    "num_cols=['disbursed_amount','asset_cost','ltv','PERFORM_CNS.SCORE','NEW.ACCTS.IN.LAST.SIX.MONTHS',\n",
    "          'DELINQUENT.ACCTS.IN.LAST.SIX.MONTHS','AVERAGE.ACCT.AGE','CREDIT.HISTORY.LENGTH','NO.OF_INQUIRIES',\n",
    "          'Age_at_disbursement','NO.OF.ACCTS','ACTIVE.ACCTS','OVERDUE.ACCTS','CURRENT.BALANCE','SANCTIONED.AMOUNT',\n",
    "             'DISBURSED.AMOUNT','INSTAL.AMT']"
   ]
  },
  {
   "cell_type": "code",
   "execution_count": 14,
   "metadata": {},
   "outputs": [
    {
     "data": {
      "text/plain": [
       "UniqueID                         233154\n",
       "branch_id                            82\n",
       "supplier_id                        2953\n",
       "manufacturer_id                      11\n",
       "Current_pincode_ID                 6698\n",
       "Employment.Type                       3\n",
       "State_ID                             22\n",
       "Employee_code_ID                   3270\n",
       "MobileNo_Avl_Flag                     1\n",
       "Aadhar_flag                           2\n",
       "PAN_flag                              2\n",
       "VoterID_flag                          2\n",
       "Driving_flag                          2\n",
       "Passport_flag                         2\n",
       "PERFORM_CNS.SCORE.DESCRIPTION         6\n",
       "DisbursalDate_Month                  12\n",
       "dtype: int64"
      ]
     },
     "execution_count": 14,
     "metadata": {},
     "output_type": "execute_result"
    }
   ],
   "source": [
    "df[cat_cols].nunique()"
   ]
  },
  {
   "cell_type": "markdown",
   "metadata": {},
   "source": [
    "As we see no of unique elements in some categorical columns is higher,we couldn't take dummies as it will cause curse of \n",
    "dimensionality.Let's drop them."
   ]
  },
  {
   "cell_type": "code",
   "execution_count": 15,
   "metadata": {},
   "outputs": [],
   "source": [
    "linear_models_df=df.copy()"
   ]
  },
  {
   "cell_type": "code",
   "execution_count": 16,
   "metadata": {},
   "outputs": [],
   "source": [
    "linear_models_df=linear_models_df.drop(columns=['UniqueID','supplier_id','Current_pincode_ID','Employee_code_ID',\"MobileNo_Avl_Flag\"])"
   ]
  },
  {
   "cell_type": "code",
   "execution_count": 17,
   "metadata": {},
   "outputs": [],
   "source": [
    "cols_to_be_dummied=[\"branch_id\",\"State_ID\",\"manufacturer_id\",'Employment.Type','DisbursalDate_Month','PERFORM_CNS.SCORE.DESCRIPTION']"
   ]
  },
  {
   "cell_type": "code",
   "execution_count": 18,
   "metadata": {},
   "outputs": [],
   "source": [
    "linear_models_final_df=pd.get_dummies(data=linear_models_df,columns=cols_to_be_dummied,drop_first=True)"
   ]
  },
  {
   "cell_type": "code",
   "execution_count": 20,
   "metadata": {},
   "outputs": [
    {
     "data": {
      "text/plain": [
       "disbursed_amount                       0.077675\n",
       "asset_cost                             0.014261\n",
       "ltv                                    0.098208\n",
       "branch_id                              0.030193\n",
       "manufacturer_id                       -0.025039\n",
       "Employment.Type                        0.024823\n",
       "State_ID                               0.048075\n",
       "Aadhar_flag                           -0.041593\n",
       "PAN_flag                               0.002046\n",
       "VoterID_flag                           0.043747\n",
       "Driving_flag                          -0.005821\n",
       "Passport_flag                         -0.007602\n",
       "PERFORM_CNS.SCORE                     -0.057929\n",
       "PERFORM_CNS.SCORE.DESCRIPTION         -0.067798\n",
       "NEW.ACCTS.IN.LAST.SIX.MONTHS          -0.029400\n",
       "DELINQUENT.ACCTS.IN.LAST.SIX.MONTHS    0.034462\n",
       "AVERAGE.ACCT.AGE                      -0.024781\n",
       "CREDIT.HISTORY.LENGTH                 -0.042126\n",
       "NO.OF_INQUIRIES                        0.043678\n",
       "loan_default                           1.000000\n",
       "DisbursalDate_Month                    0.011411\n",
       "Age_at_disbursement                    0.008926\n",
       "NO.OF.ACCTS                           -0.035963\n",
       "ACTIVE.ACCTS                          -0.041511\n",
       "OVERDUE.ACCTS                          0.039469\n",
       "CURRENT.BALANCE                       -0.027839\n",
       "SANCTIONED.AMOUNT                     -0.011749\n",
       "DISBURSED.AMOUNT                      -0.011591\n",
       "INSTAL.AMT                            -0.010707\n",
       "Name: loan_default, dtype: float64"
      ]
     },
     "execution_count": 20,
     "metadata": {},
     "output_type": "execute_result"
    }
   ],
   "source": [
    "linear_models_df.corr()['loan_default']"
   ]
  },
  {
   "cell_type": "markdown",
   "metadata": {},
   "source": [
    "**Since Current balance has negative values we will take scaled between 0 and 1**"
   ]
  },
  {
   "cell_type": "code",
   "execution_count": 21,
   "metadata": {},
   "outputs": [],
   "source": [
    "scalar=MinMaxScaler()\n",
    "linear_models_final_df[\"CURRENT.BALANCE\"]=scalar.fit_transform(linear_models_final_df[\"CURRENT.BALANCE\"].values.reshape(-1,1))"
   ]
  },
  {
   "cell_type": "code",
   "execution_count": 22,
   "metadata": {},
   "outputs": [
    {
     "data": {
      "text/html": [
       "<div>\n",
       "<style scoped>\n",
       "    .dataframe tbody tr th:only-of-type {\n",
       "        vertical-align: middle;\n",
       "    }\n",
       "\n",
       "    .dataframe tbody tr th {\n",
       "        vertical-align: top;\n",
       "    }\n",
       "\n",
       "    .dataframe thead th {\n",
       "        text-align: right;\n",
       "    }\n",
       "</style>\n",
       "<table border=\"1\" class=\"dataframe\">\n",
       "  <thead>\n",
       "    <tr style=\"text-align: right;\">\n",
       "      <th></th>\n",
       "      <th>Scores</th>\n",
       "    </tr>\n",
       "  </thead>\n",
       "  <tbody>\n",
       "    <tr>\n",
       "      <td>disbursed_amount</td>\n",
       "      <td>4.492240</td>\n",
       "    </tr>\n",
       "    <tr>\n",
       "      <td>asset_cost</td>\n",
       "      <td>6.133485</td>\n",
       "    </tr>\n",
       "    <tr>\n",
       "      <td>ltv</td>\n",
       "      <td>-1.075766</td>\n",
       "    </tr>\n",
       "    <tr>\n",
       "      <td>PERFORM_CNS.SCORE</td>\n",
       "      <td>0.445150</td>\n",
       "    </tr>\n",
       "    <tr>\n",
       "      <td>NEW.ACCTS.IN.LAST.SIX.MONTHS</td>\n",
       "      <td>4.839326</td>\n",
       "    </tr>\n",
       "    <tr>\n",
       "      <td>DELINQUENT.ACCTS.IN.LAST.SIX.MONTHS</td>\n",
       "      <td>6.641996</td>\n",
       "    </tr>\n",
       "    <tr>\n",
       "      <td>AVERAGE.ACCT.AGE</td>\n",
       "      <td>3.285142</td>\n",
       "    </tr>\n",
       "    <tr>\n",
       "      <td>CREDIT.HISTORY.LENGTH</td>\n",
       "      <td>2.969155</td>\n",
       "    </tr>\n",
       "    <tr>\n",
       "      <td>NO.OF_INQUIRIES</td>\n",
       "      <td>7.870683</td>\n",
       "    </tr>\n",
       "    <tr>\n",
       "      <td>Age_at_disbursement</td>\n",
       "      <td>-2.250138</td>\n",
       "    </tr>\n",
       "    <tr>\n",
       "      <td>NO.OF.ACCTS</td>\n",
       "      <td>9.474425</td>\n",
       "    </tr>\n",
       "    <tr>\n",
       "      <td>ACTIVE.ACCTS</td>\n",
       "      <td>5.278660</td>\n",
       "    </tr>\n",
       "    <tr>\n",
       "      <td>OVERDUE.ACCTS</td>\n",
       "      <td>7.312614</td>\n",
       "    </tr>\n",
       "    <tr>\n",
       "      <td>CURRENT.BALANCE</td>\n",
       "      <td>28.589453</td>\n",
       "    </tr>\n",
       "    <tr>\n",
       "      <td>SANCTIONED.AMOUNT</td>\n",
       "      <td>320.010642</td>\n",
       "    </tr>\n",
       "    <tr>\n",
       "      <td>DISBURSED.AMOUNT</td>\n",
       "      <td>318.903561</td>\n",
       "    </tr>\n",
       "    <tr>\n",
       "      <td>INSTAL.AMT</td>\n",
       "      <td>68.804991</td>\n",
       "    </tr>\n",
       "  </tbody>\n",
       "</table>\n",
       "</div>"
      ],
      "text/plain": [
       "                                         Scores\n",
       "disbursed_amount                       4.492240\n",
       "asset_cost                             6.133485\n",
       "ltv                                   -1.075766\n",
       "PERFORM_CNS.SCORE                      0.445150\n",
       "NEW.ACCTS.IN.LAST.SIX.MONTHS           4.839326\n",
       "DELINQUENT.ACCTS.IN.LAST.SIX.MONTHS    6.641996\n",
       "AVERAGE.ACCT.AGE                       3.285142\n",
       "CREDIT.HISTORY.LENGTH                  2.969155\n",
       "NO.OF_INQUIRIES                        7.870683\n",
       "Age_at_disbursement                   -2.250138\n",
       "NO.OF.ACCTS                            9.474425\n",
       "ACTIVE.ACCTS                           5.278660\n",
       "OVERDUE.ACCTS                          7.312614\n",
       "CURRENT.BALANCE                       28.589453\n",
       "SANCTIONED.AMOUNT                    320.010642\n",
       "DISBURSED.AMOUNT                     318.903561\n",
       "INSTAL.AMT                            68.804991"
      ]
     },
     "execution_count": 22,
     "metadata": {},
     "output_type": "execute_result"
    }
   ],
   "source": [
    "val=[]\n",
    "for i in num_cols:\n",
    "    val.append(linear_models_df[i].skew())\n",
    "skew_df=pd.DataFrame(index=num_cols,data=val,columns=[\"Scores\"])\n",
    "skew_df"
   ]
  },
  {
   "cell_type": "code",
   "execution_count": 23,
   "metadata": {},
   "outputs": [],
   "source": [
    "cols_to_taken_log=skew_df[skew_df[\"Scores\"]>2].index"
   ]
  },
  {
   "cell_type": "code",
   "execution_count": 24,
   "metadata": {},
   "outputs": [],
   "source": [
    "for i in cols_to_taken_log:\n",
    "    linear_models_final_df[i]=np.log(linear_models_final_df[i]+1)"
   ]
  },
  {
   "cell_type": "code",
   "execution_count": 25,
   "metadata": {},
   "outputs": [],
   "source": [
    "X=linear_models_final_df.drop('loan_default',axis=1)\n",
    "y=linear_models_final_df['loan_default']\n",
    "model_scores={}"
   ]
  },
  {
   "cell_type": "code",
   "execution_count": 26,
   "metadata": {},
   "outputs": [
    {
     "data": {
      "text/html": [
       "<div>\n",
       "<style scoped>\n",
       "    .dataframe tbody tr th:only-of-type {\n",
       "        vertical-align: middle;\n",
       "    }\n",
       "\n",
       "    .dataframe tbody tr th {\n",
       "        vertical-align: top;\n",
       "    }\n",
       "\n",
       "    .dataframe thead th {\n",
       "        text-align: right;\n",
       "    }\n",
       "</style>\n",
       "<table border=\"1\" class=\"dataframe\">\n",
       "  <thead>\n",
       "    <tr style=\"text-align: right;\">\n",
       "      <th></th>\n",
       "      <th>disbursed_amount</th>\n",
       "      <th>asset_cost</th>\n",
       "      <th>ltv</th>\n",
       "      <th>Aadhar_flag</th>\n",
       "      <th>PAN_flag</th>\n",
       "      <th>VoterID_flag</th>\n",
       "      <th>Driving_flag</th>\n",
       "      <th>Passport_flag</th>\n",
       "      <th>PERFORM_CNS.SCORE</th>\n",
       "      <th>NEW.ACCTS.IN.LAST.SIX.MONTHS</th>\n",
       "      <th>...</th>\n",
       "      <th>DisbursalDate_Month_8</th>\n",
       "      <th>DisbursalDate_Month_9</th>\n",
       "      <th>DisbursalDate_Month_10</th>\n",
       "      <th>DisbursalDate_Month_11</th>\n",
       "      <th>DisbursalDate_Month_12</th>\n",
       "      <th>PERFORM_CNS.SCORE.DESCRIPTION_1</th>\n",
       "      <th>PERFORM_CNS.SCORE.DESCRIPTION_2</th>\n",
       "      <th>PERFORM_CNS.SCORE.DESCRIPTION_3</th>\n",
       "      <th>PERFORM_CNS.SCORE.DESCRIPTION_4</th>\n",
       "      <th>PERFORM_CNS.SCORE.DESCRIPTION_5</th>\n",
       "    </tr>\n",
       "  </thead>\n",
       "  <tbody>\n",
       "    <tr>\n",
       "      <td>0</td>\n",
       "      <td>10.831292</td>\n",
       "      <td>10.975088</td>\n",
       "      <td>89.55</td>\n",
       "      <td>1</td>\n",
       "      <td>0</td>\n",
       "      <td>0</td>\n",
       "      <td>0</td>\n",
       "      <td>0</td>\n",
       "      <td>0</td>\n",
       "      <td>0.0</td>\n",
       "      <td>...</td>\n",
       "      <td>0</td>\n",
       "      <td>0</td>\n",
       "      <td>0</td>\n",
       "      <td>0</td>\n",
       "      <td>0</td>\n",
       "      <td>0</td>\n",
       "      <td>0</td>\n",
       "      <td>0</td>\n",
       "      <td>0</td>\n",
       "      <td>0</td>\n",
       "    </tr>\n",
       "    <tr>\n",
       "      <td>1</td>\n",
       "      <td>10.761004</td>\n",
       "      <td>11.090584</td>\n",
       "      <td>73.23</td>\n",
       "      <td>1</td>\n",
       "      <td>0</td>\n",
       "      <td>0</td>\n",
       "      <td>0</td>\n",
       "      <td>0</td>\n",
       "      <td>598</td>\n",
       "      <td>0.0</td>\n",
       "      <td>...</td>\n",
       "      <td>0</td>\n",
       "      <td>1</td>\n",
       "      <td>0</td>\n",
       "      <td>0</td>\n",
       "      <td>0</td>\n",
       "      <td>0</td>\n",
       "      <td>0</td>\n",
       "      <td>1</td>\n",
       "      <td>0</td>\n",
       "      <td>0</td>\n",
       "    </tr>\n",
       "    <tr>\n",
       "      <td>2</td>\n",
       "      <td>10.883298</td>\n",
       "      <td>11.024530</td>\n",
       "      <td>89.63</td>\n",
       "      <td>1</td>\n",
       "      <td>0</td>\n",
       "      <td>0</td>\n",
       "      <td>0</td>\n",
       "      <td>0</td>\n",
       "      <td>0</td>\n",
       "      <td>0.0</td>\n",
       "      <td>...</td>\n",
       "      <td>0</td>\n",
       "      <td>0</td>\n",
       "      <td>0</td>\n",
       "      <td>0</td>\n",
       "      <td>0</td>\n",
       "      <td>0</td>\n",
       "      <td>0</td>\n",
       "      <td>0</td>\n",
       "      <td>0</td>\n",
       "      <td>0</td>\n",
       "    </tr>\n",
       "    <tr>\n",
       "      <td>3</td>\n",
       "      <td>10.959784</td>\n",
       "      <td>11.099136</td>\n",
       "      <td>88.48</td>\n",
       "      <td>1</td>\n",
       "      <td>0</td>\n",
       "      <td>0</td>\n",
       "      <td>0</td>\n",
       "      <td>0</td>\n",
       "      <td>305</td>\n",
       "      <td>0.0</td>\n",
       "      <td>...</td>\n",
       "      <td>0</td>\n",
       "      <td>0</td>\n",
       "      <td>1</td>\n",
       "      <td>0</td>\n",
       "      <td>0</td>\n",
       "      <td>1</td>\n",
       "      <td>0</td>\n",
       "      <td>0</td>\n",
       "      <td>0</td>\n",
       "      <td>0</td>\n",
       "    </tr>\n",
       "    <tr>\n",
       "      <td>4</td>\n",
       "      <td>10.866261</td>\n",
       "      <td>11.007104</td>\n",
       "      <td>88.39</td>\n",
       "      <td>1</td>\n",
       "      <td>0</td>\n",
       "      <td>0</td>\n",
       "      <td>0</td>\n",
       "      <td>0</td>\n",
       "      <td>0</td>\n",
       "      <td>0.0</td>\n",
       "      <td>...</td>\n",
       "      <td>0</td>\n",
       "      <td>1</td>\n",
       "      <td>0</td>\n",
       "      <td>0</td>\n",
       "      <td>0</td>\n",
       "      <td>0</td>\n",
       "      <td>0</td>\n",
       "      <td>0</td>\n",
       "      <td>0</td>\n",
       "      <td>0</td>\n",
       "    </tr>\n",
       "  </tbody>\n",
       "</table>\n",
       "<p>5 rows × 153 columns</p>\n",
       "</div>"
      ],
      "text/plain": [
       "   disbursed_amount  asset_cost    ltv  Aadhar_flag  PAN_flag  VoterID_flag  \\\n",
       "0         10.831292   10.975088  89.55            1         0             0   \n",
       "1         10.761004   11.090584  73.23            1         0             0   \n",
       "2         10.883298   11.024530  89.63            1         0             0   \n",
       "3         10.959784   11.099136  88.48            1         0             0   \n",
       "4         10.866261   11.007104  88.39            1         0             0   \n",
       "\n",
       "   Driving_flag  Passport_flag  PERFORM_CNS.SCORE  \\\n",
       "0             0              0                  0   \n",
       "1             0              0                598   \n",
       "2             0              0                  0   \n",
       "3             0              0                305   \n",
       "4             0              0                  0   \n",
       "\n",
       "   NEW.ACCTS.IN.LAST.SIX.MONTHS  ...  DisbursalDate_Month_8  \\\n",
       "0                           0.0  ...                      0   \n",
       "1                           0.0  ...                      0   \n",
       "2                           0.0  ...                      0   \n",
       "3                           0.0  ...                      0   \n",
       "4                           0.0  ...                      0   \n",
       "\n",
       "   DisbursalDate_Month_9  DisbursalDate_Month_10  DisbursalDate_Month_11  \\\n",
       "0                      0                       0                       0   \n",
       "1                      1                       0                       0   \n",
       "2                      0                       0                       0   \n",
       "3                      0                       1                       0   \n",
       "4                      1                       0                       0   \n",
       "\n",
       "   DisbursalDate_Month_12  PERFORM_CNS.SCORE.DESCRIPTION_1  \\\n",
       "0                       0                                0   \n",
       "1                       0                                0   \n",
       "2                       0                                0   \n",
       "3                       0                                1   \n",
       "4                       0                                0   \n",
       "\n",
       "   PERFORM_CNS.SCORE.DESCRIPTION_2  PERFORM_CNS.SCORE.DESCRIPTION_3  \\\n",
       "0                                0                                0   \n",
       "1                                0                                1   \n",
       "2                                0                                0   \n",
       "3                                0                                0   \n",
       "4                                0                                0   \n",
       "\n",
       "   PERFORM_CNS.SCORE.DESCRIPTION_4  PERFORM_CNS.SCORE.DESCRIPTION_5  \n",
       "0                                0                                0  \n",
       "1                                0                                0  \n",
       "2                                0                                0  \n",
       "3                                0                                0  \n",
       "4                                0                                0  \n",
       "\n",
       "[5 rows x 153 columns]"
      ]
     },
     "execution_count": 26,
     "metadata": {},
     "output_type": "execute_result"
    }
   ],
   "source": [
    "linear_models_final_df.head()"
   ]
  },
  {
   "cell_type": "markdown",
   "metadata": {},
   "source": [
    "# Model Building"
   ]
  },
  {
   "cell_type": "code",
   "execution_count": 27,
   "metadata": {},
   "outputs": [],
   "source": [
    "#model selection from sklearn import model_selection\n",
    "from sklearn.linear_model import LogisticRegression\n",
    "from sklearn.tree import DecisionTreeClassifier\n",
    "from sklearn.neighbors import KNeighborsClassifier\n",
    "#ensemble\n",
    "from sklearn.ensemble import RandomForestClassifier,BaggingClassifier,AdaBoostClassifier,GradientBoostingClassifier\n",
    "from xgboost import XGBClassifier\n",
    "#metrics\n",
    "from sklearn.metrics import precision_score, recall_score, f1_score, roc_auc_score, accuracy_score, classification_report"
   ]
  },
  {
   "cell_type": "code",
   "execution_count": 31,
   "metadata": {},
   "outputs": [],
   "source": [
    "from sklearn.model_selection import train_test_split,KFold,cross_val_score\n",
    "X_train, X_test, y_train, y_test = train_test_split(X, y, test_size=0.3, random_state=2)"
   ]
  },
  {
   "cell_type": "code",
   "execution_count": 37,
   "metadata": {},
   "outputs": [
    {
     "data": {
      "text/plain": [
       "(163207,)"
      ]
     },
     "execution_count": 37,
     "metadata": {},
     "output_type": "execute_result"
    }
   ],
   "source": [
    "y_train.shape"
   ]
  },
  {
   "cell_type": "code",
   "execution_count": 39,
   "metadata": {},
   "outputs": [
    {
     "data": {
      "text/plain": [
       "((69947, 152), (69947,))"
      ]
     },
     "execution_count": 39,
     "metadata": {},
     "output_type": "execute_result"
    }
   ],
   "source": [
    "X_test.shape,y_test.shape"
   ]
  },
  {
   "cell_type": "code",
   "execution_count": 53,
   "metadata": {},
   "outputs": [],
   "source": [
    "def modelresult(i):\n",
    "    print(i,\"\\n\")\n",
    "    classifier = i\n",
    "    classifier.fit(X_train, y_train)\n",
    "    y_predt=classifier.predict(X_train)\n",
    "    y_pred=classifier.predict(X_test)\n",
    "    print(\"\\n Accuracy for the Train:\",accuracy_score(y_train,y_predt))\n",
    "    print(\"\\n Accuracy for the Test\",accuracy_score(y_test,y_pred),\"\\n\")\n",
    "    from sklearn.metrics import classification_report\n",
    "    print(classification_report(y_test,y_pred))"
   ]
  },
  {
   "cell_type": "markdown",
   "metadata": {},
   "source": [
    "## Logistic Regression"
   ]
  },
  {
   "cell_type": "code",
   "execution_count": 54,
   "metadata": {},
   "outputs": [
    {
     "name": "stdout",
     "output_type": "stream",
     "text": [
      "LogisticRegression(C=1.0, class_weight=None, dual=False, fit_intercept=True,\n",
      "                   intercept_scaling=1, l1_ratio=None, max_iter=100,\n",
      "                   multi_class='warn', n_jobs=None, penalty='l2',\n",
      "                   random_state=1, solver='warn', tol=0.0001, verbose=0,\n",
      "                   warm_start=False) \n",
      "\n",
      "\n",
      " Accuracy for the Train: 0.7828218152407679\n",
      "\n",
      " Accuracy for the Test 0.7829928374340572 \n",
      "\n",
      "              precision    recall  f1-score   support\n",
      "\n",
      "           0       0.78      1.00      0.88     54776\n",
      "           1       0.48      0.01      0.01     15171\n",
      "\n",
      "    accuracy                           0.78     69947\n",
      "   macro avg       0.63      0.50      0.44     69947\n",
      "weighted avg       0.72      0.78      0.69     69947\n",
      "\n"
     ]
    }
   ],
   "source": [
    "lr = LogisticRegression(random_state=1)\n",
    "modelresult(lr)"
   ]
  },
  {
   "cell_type": "markdown",
   "metadata": {},
   "source": [
    "## Decision Tree classifier"
   ]
  },
  {
   "cell_type": "code",
   "execution_count": 59,
   "metadata": {},
   "outputs": [
    {
     "name": "stdout",
     "output_type": "stream",
     "text": [
      "DecisionTreeClassifier(class_weight=None, criterion='entropy', max_depth=None,\n",
      "                       max_features=None, max_leaf_nodes=None,\n",
      "                       min_impurity_decrease=0.0, min_impurity_split=None,\n",
      "                       min_samples_leaf=1, min_samples_split=2,\n",
      "                       min_weight_fraction_leaf=0.0, presort=False,\n",
      "                       random_state=1, splitter='best') \n",
      "\n",
      "\n",
      " Accuracy for the Train: 0.9997365309086007\n",
      "\n",
      " Accuracy for the Test 0.6760976167669808 \n",
      "\n",
      "              precision    recall  f1-score   support\n",
      "\n",
      "           0       0.80      0.79      0.79     54776\n",
      "           1       0.26      0.27      0.27     15171\n",
      "\n",
      "    accuracy                           0.68     69947\n",
      "   macro avg       0.53      0.53      0.53     69947\n",
      "weighted avg       0.68      0.68      0.68     69947\n",
      "\n"
     ]
    }
   ],
   "source": [
    "dcg = DecisionTreeClassifier(criterion='entropy',random_state=1)\n",
    "modelresult(dcg)"
   ]
  },
  {
   "cell_type": "code",
   "execution_count": 60,
   "metadata": {},
   "outputs": [
    {
     "name": "stdout",
     "output_type": "stream",
     "text": [
      "DecisionTreeClassifier(class_weight=None, criterion='gini', max_depth=None,\n",
      "                       max_features=None, max_leaf_nodes=None,\n",
      "                       min_impurity_decrease=0.0, min_impurity_split=None,\n",
      "                       min_samples_leaf=1, min_samples_split=2,\n",
      "                       min_weight_fraction_leaf=0.0, presort=False,\n",
      "                       random_state=1, splitter='best') \n",
      "\n",
      "\n",
      " Accuracy for the Train: 0.9997365309086007\n",
      "\n",
      " Accuracy for the Test 0.6747823351966489 \n",
      "\n",
      "              precision    recall  f1-score   support\n",
      "\n",
      "           0       0.80      0.78      0.79     54776\n",
      "           1       0.26      0.28      0.27     15171\n",
      "\n",
      "    accuracy                           0.67     69947\n",
      "   macro avg       0.53      0.53      0.53     69947\n",
      "weighted avg       0.68      0.67      0.68     69947\n",
      "\n"
     ]
    }
   ],
   "source": [
    "dcg = DecisionTreeClassifier(criterion='gini',random_state=1)\n",
    "modelresult(dcg)"
   ]
  },
  {
   "cell_type": "markdown",
   "metadata": {},
   "source": [
    "## RandomForest Classifier"
   ]
  },
  {
   "cell_type": "code",
   "execution_count": 62,
   "metadata": {},
   "outputs": [
    {
     "name": "stdout",
     "output_type": "stream",
     "text": [
      "RandomForestClassifier(bootstrap=True, class_weight=None, criterion='gini',\n",
      "                       max_depth=None, max_features='auto', max_leaf_nodes=None,\n",
      "                       min_impurity_decrease=0.0, min_impurity_split=None,\n",
      "                       min_samples_leaf=1, min_samples_split=2,\n",
      "                       min_weight_fraction_leaf=0.0, n_estimators=100,\n",
      "                       n_jobs=None, oob_score=False, random_state=1, verbose=0,\n",
      "                       warm_start=False) \n",
      "\n",
      "\n",
      " Accuracy for the Train: 0.9997120221559125\n",
      "\n",
      " Accuracy for the Test 0.7771598496004117 \n",
      "\n",
      "              precision    recall  f1-score   support\n",
      "\n",
      "           0       0.79      0.98      0.87     54776\n",
      "           1       0.39      0.05      0.08     15171\n",
      "\n",
      "    accuracy                           0.78     69947\n",
      "   macro avg       0.59      0.51      0.48     69947\n",
      "weighted avg       0.70      0.78      0.70     69947\n",
      "\n"
     ]
    }
   ],
   "source": [
    "rfc = RandomForestClassifier(n_estimators=100,random_state=1)\n",
    "modelresult(rfc)"
   ]
  },
  {
   "cell_type": "markdown",
   "metadata": {},
   "source": [
    "## Bagging Classifier"
   ]
  },
  {
   "cell_type": "code",
   "execution_count": 63,
   "metadata": {},
   "outputs": [
    {
     "name": "stdout",
     "output_type": "stream",
     "text": [
      "BaggingClassifier(base_estimator=None, bootstrap=True, bootstrap_features=False,\n",
      "                  max_features=1.0, max_samples=1.0, n_estimators=10,\n",
      "                  n_jobs=None, oob_score=False, random_state=1, verbose=0,\n",
      "                  warm_start=False) \n",
      "\n",
      "\n",
      " Accuracy for the Train: 0.9750868528923392\n",
      "\n",
      " Accuracy for the Test 0.7650506812300742 \n",
      "\n",
      "              precision    recall  f1-score   support\n",
      "\n",
      "           0       0.79      0.95      0.86     54776\n",
      "           1       0.34      0.09      0.14     15171\n",
      "\n",
      "    accuracy                           0.77     69947\n",
      "   macro avg       0.56      0.52      0.50     69947\n",
      "weighted avg       0.69      0.77      0.71     69947\n",
      "\n"
     ]
    }
   ],
   "source": [
    "bgc = BaggingClassifier(random_state=1)\n",
    "modelresult(bgc)  "
   ]
  },
  {
   "cell_type": "markdown",
   "metadata": {},
   "source": [
    "## AdaBoost Classifier"
   ]
  },
  {
   "cell_type": "code",
   "execution_count": 64,
   "metadata": {},
   "outputs": [
    {
     "name": "stdout",
     "output_type": "stream",
     "text": [
      "AdaBoostClassifier(algorithm='SAMME.R', base_estimator=None, learning_rate=1.0,\n",
      "                   n_estimators=50, random_state=1) \n",
      "\n",
      "\n",
      " Accuracy for the Train: 0.7827115258536705\n",
      "\n",
      " Accuracy for the Test 0.7826783135802822 \n",
      "\n",
      "              precision    recall  f1-score   support\n",
      "\n",
      "           0       0.79      0.99      0.88     54776\n",
      "           1       0.47      0.02      0.03     15171\n",
      "\n",
      "    accuracy                           0.78     69947\n",
      "   macro avg       0.63      0.51      0.45     69947\n",
      "weighted avg       0.72      0.78      0.69     69947\n",
      "\n"
     ]
    }
   ],
   "source": [
    "ada = AdaBoostClassifier(random_state=1)\n",
    "modelresult(ada)"
   ]
  },
  {
   "cell_type": "markdown",
   "metadata": {},
   "source": [
    "## XGBoost Classifier"
   ]
  },
  {
   "cell_type": "code",
   "execution_count": 65,
   "metadata": {},
   "outputs": [
    {
     "name": "stdout",
     "output_type": "stream",
     "text": [
      "XGBClassifier(base_score=0.5, booster='gbtree', colsample_bylevel=1,\n",
      "              colsample_bynode=1, colsample_bytree=1, gamma=0,\n",
      "              learning_rate=0.2, max_delta_step=0, max_depth=3,\n",
      "              min_child_weight=1, missing=None, n_estimators=100, n_jobs=-1,\n",
      "              nthread=None, objective='binary:logistic', random_state=1,\n",
      "              reg_alpha=0, reg_lambda=1, scale_pos_weight=1, seed=None,\n",
      "              silent=None, subsample=1, verbosity=1) \n",
      "\n",
      "\n",
      " Accuracy for the Train: 0.7838328012891604\n",
      "\n",
      " Accuracy for the Test 0.783693367835647 \n",
      "\n",
      "              precision    recall  f1-score   support\n",
      "\n",
      "           0       0.78      1.00      0.88     54776\n",
      "           1       0.57      0.01      0.02     15171\n",
      "\n",
      "    accuracy                           0.78     69947\n",
      "   macro avg       0.68      0.50      0.45     69947\n",
      "weighted avg       0.74      0.78      0.69     69947\n",
      "\n"
     ]
    }
   ],
   "source": [
    "xgb =  XGBClassifier(random_state=1, n_jobs=-1, learning_rate=0.2,n_estimators=100, max_depth=3)\n",
    "modelresult(xgb)"
   ]
  },
  {
   "cell_type": "markdown",
   "metadata": {},
   "source": [
    "We can observe that Xgboost classifier has highest accuracy score of 78.3% out of all models built."
   ]
  },
  {
   "cell_type": "code",
   "execution_count": null,
   "metadata": {},
   "outputs": [],
   "source": []
  },
  {
   "cell_type": "code",
   "execution_count": null,
   "metadata": {},
   "outputs": [],
   "source": []
  },
  {
   "cell_type": "code",
   "execution_count": null,
   "metadata": {},
   "outputs": [],
   "source": []
  },
  {
   "cell_type": "code",
   "execution_count": 42,
   "metadata": {},
   "outputs": [],
   "source": [
    "# def validation(X,y,model,cv=230,scoring=\"roc_auc\"):\n",
    "#     results=cross_val_score(model,X=X,y=y,cv=cv,scoring=scoring,n_jobs=-1)\n",
    "#     print(\"mean_auc-\",results.mean())\n",
    "#     print(\"std_auc-\",results.std())\n",
    "#     return results"
   ]
  },
  {
   "cell_type": "code",
   "execution_count": 41,
   "metadata": {},
   "outputs": [
    {
     "data": {
      "text/plain": [
       "(233154, 34)"
      ]
     },
     "execution_count": 41,
     "metadata": {},
     "output_type": "execute_result"
    }
   ],
   "source": [
    "# df.shape"
   ]
  },
  {
   "cell_type": "markdown",
   "metadata": {},
   "source": [
    "### LogisticRegression"
   ]
  },
  {
   "cell_type": "code",
   "execution_count": null,
   "metadata": {},
   "outputs": [],
   "source": [
    "# from sklearn.linear_model import LogisticRegression\n",
    "# model=LogisticRegression()\n",
    "# results=validation(X,y,model)\n",
    "# model_scores.update({\"Logistic_Regression\":results})"
   ]
  },
  {
   "cell_type": "code",
   "execution_count": 29,
   "metadata": {},
   "outputs": [
    {
     "data": {
      "text/plain": [
       "{'Logistic_Regression': array([0.64332927, 0.63215232, 0.64009764, 0.6190023 , 0.63048149,\n",
       "        0.63910918, 0.63761993])}"
      ]
     },
     "execution_count": 29,
     "metadata": {},
     "output_type": "execute_result"
    }
   ],
   "source": [
    "# model_scores"
   ]
  },
  {
   "cell_type": "code",
   "execution_count": 30,
   "metadata": {},
   "outputs": [
    {
     "name": "stdout",
     "output_type": "stream",
     "text": [
      "mean_auc- 0.6309277182740594\n",
      "std_auc- 0.014406586730994566\n"
     ]
    }
   ],
   "source": [
    "# results=validation(X,y,model,cv=10)"
   ]
  },
  {
   "cell_type": "code",
   "execution_count": 31,
   "metadata": {},
   "outputs": [],
   "source": [
    "# model_scores.update({\"Logistic_Regression_cv10\":results})"
   ]
  },
  {
   "cell_type": "code",
   "execution_count": 32,
   "metadata": {},
   "outputs": [
    {
     "data": {
      "text/plain": [
       "{'Logistic_Regression': array([0.64332927, 0.63215232, 0.64009764, 0.6190023 , 0.63048149,\n",
       "        0.63910918, 0.63761993]),\n",
       " 'Logistic_Regression_cv10': array([0.6407164 , 0.64764169, 0.62044767, 0.64307746, 0.62032089,\n",
       "        0.61465774, 0.60614936, 0.64954661, 0.6265333 , 0.64018604])}"
      ]
     },
     "execution_count": 32,
     "metadata": {},
     "output_type": "execute_result"
    }
   ],
   "source": [
    "# model_scores"
   ]
  },
  {
   "cell_type": "markdown",
   "metadata": {},
   "source": [
    "### LinearDiscriminantAnalysis"
   ]
  },
  {
   "cell_type": "code",
   "execution_count": 33,
   "metadata": {},
   "outputs": [],
   "source": [
    "# from sklearn.discriminant_analysis import LinearDiscriminantAnalysis\n",
    "# model=LinearDiscriminantAnalysis()"
   ]
  },
  {
   "cell_type": "code",
   "execution_count": 27,
   "metadata": {},
   "outputs": [
    {
     "name": "stdout",
     "output_type": "stream",
     "text": [
      "mean_auc- 0.639158972950011\n",
      "std_auc- 0.010641886010019763\n"
     ]
    }
   ],
   "source": [
    "# results=validation(X,y,model)\n",
    "# model_scores.update({\"LinearDiscriminantAnalysis\":results})"
   ]
  },
  {
   "cell_type": "markdown",
   "metadata": {},
   "source": [
    "## Tree Based Models:"
   ]
  },
  {
   "cell_type": "code",
   "execution_count": 45,
   "metadata": {},
   "outputs": [],
   "source": [
    "# df1=df.copy()\n",
    "# # df1=df1.drop(columns=[\"UniqueID\"])"
   ]
  },
  {
   "cell_type": "code",
   "execution_count": 35,
   "metadata": {},
   "outputs": [
    {
     "data": {
      "text/plain": [
       "supplier_id           2953\n",
       "Current_pincode_ID    6698\n",
       "Employee_code_ID      3270\n",
       "dtype: int64"
      ]
     },
     "execution_count": 35,
     "metadata": {},
     "output_type": "execute_result"
    }
   ],
   "source": [
    "\n",
    "# df1[['supplier_id','Current_pincode_ID','Employee_code_ID']].nunique()"
   ]
  },
  {
   "cell_type": "code",
   "execution_count": 46,
   "metadata": {},
   "outputs": [],
   "source": [
    "# from sklearn.preprocessing import OneHotEncoder\n",
    "# for i in ['supplier_id','Current_pincode_ID','Employee_code_ID']:\n",
    "#     one_hot=OneHotEncoder(handle_unknown=\"ignore\",sparse=False)\n",
    "#     dummy_index=df1[i].value_counts()[:100].index.to_list()\n",
    "#     one_hot.fit(np.array(dummy_index).reshape(-1, 1))\n",
    "#     data=one_hot.transform(df1[i].values.reshape(-1, 1))\n",
    "#     dummy=pd.DataFrame(data=data,columns=[str(j)+i for j in dummy_index])\n",
    "#     df1=pd.concat([df1,dummy],axis=1)\n",
    "\n",
    "# df1=pd.get_dummies(data=df1,columns=cols_to_be_dummied,drop_first=True)"
   ]
  },
  {
   "cell_type": "code",
   "execution_count": 57,
   "metadata": {},
   "outputs": [
    {
     "data": {
      "text/plain": [
       "(233154, 457)"
      ]
     },
     "execution_count": 57,
     "metadata": {},
     "output_type": "execute_result"
    }
   ],
   "source": [
    "df1.shape"
   ]
  },
  {
   "cell_type": "markdown",
   "metadata": {},
   "source": [
    "### Decision Tree"
   ]
  },
  {
   "cell_type": "code",
   "execution_count": 66,
   "metadata": {},
   "outputs": [],
   "source": [
    "# Xd=df1.drop('loan_default',axis=1)\n",
    "# yd=df1['loan_default']\n",
    "# from sklearn.tree import DecisionTreeClassifier\n",
    "# dtc_model=DecisionTreeClassifier()\n",
    "# # results=validation(X,y,model,cv=10)\n",
    "# # model_scores.update({\"Decision_Tree\":results})"
   ]
  },
  {
   "cell_type": "code",
   "execution_count": 67,
   "metadata": {},
   "outputs": [],
   "source": [
    "# from sklearn.model_selection import train_test_split,KFold,cross_val_score\n",
    "# X_traind, X_testd, y_traind, y_testd = train_test_split(Xd, yd, test_size=0.3, random_state=2)"
   ]
  },
  {
   "cell_type": "code",
   "execution_count": 68,
   "metadata": {},
   "outputs": [
    {
     "name": "stdout",
     "output_type": "stream",
     "text": [
      "DecisionTreeClassifier(class_weight=None, criterion='gini', max_depth=None,\n",
      "                       max_features=None, max_leaf_nodes=None,\n",
      "                       min_impurity_decrease=0.0, min_impurity_split=None,\n",
      "                       min_samples_leaf=1, min_samples_split=2,\n",
      "                       min_weight_fraction_leaf=0.0, presort=False,\n",
      "                       random_state=None, splitter='best') \n",
      "\n",
      "\n",
      " Accuracy for the Train: 0.9997365309086007\n",
      "\n",
      " Accuracy for the Test 0.6738673567129398 \n",
      "\n",
      "              precision    recall  f1-score   support\n",
      "\n",
      "           0       0.80      0.78      0.79     54776\n",
      "           1       0.26      0.28      0.27     15171\n",
      "\n",
      "    accuracy                           0.67     69947\n",
      "   macro avg       0.53      0.53      0.53     69947\n",
      "weighted avg       0.68      0.67      0.68     69947\n",
      "\n"
     ]
    }
   ],
   "source": [
    "# modelresult(dtc_model)"
   ]
  }
 ],
 "metadata": {
  "kernelspec": {
   "display_name": "Python 3",
   "language": "python",
   "name": "python3"
  },
  "language_info": {
   "codemirror_mode": {
    "name": "ipython",
    "version": 3
   },
   "file_extension": ".py",
   "mimetype": "text/x-python",
   "name": "python",
   "nbconvert_exporter": "python",
   "pygments_lexer": "ipython3",
   "version": "3.7.4"
  }
 },
 "nbformat": 4,
 "nbformat_minor": 4
}
